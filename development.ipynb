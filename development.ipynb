{
 "cells": [
  {
   "cell_type": "code",
   "execution_count": 1,
   "metadata": {},
   "outputs": [],
   "source": [
    "import numpy as np\n",
    "import pandas as pd\n",
    "import matplotlib.pyplot as plt\n",
    "import os\n",
    "import time\n",
    "import transformers\n",
    "import torch\n",
    "import torch.nn as nn\n",
    "import torch.nn.functional as F\n",
    "from pprint import pprint\n",
    "from tqdm.notebook import tqdm"
   ]
  },
  {
   "cell_type": "code",
   "execution_count": 2,
   "metadata": {},
   "outputs": [
    {
     "name": "stdout",
     "output_type": "stream",
     "text": [
      "('Pri tem opozarjajo na zakon o kazenskem postopku, ki vsem državnim organom, '\n",
      " 'tudi Komisiji za preprečevanje korupcije, nalaga, da morajo prijaviti '\n",
      " 'kazniva dejanja, za katera se storilec preganja po uradni dolžnosti, če so o '\n",
      " 'njih obveščeni. »Komisija ni obvestila policije o posedovanju dokumentacije, '\n",
      " 'ki po njihovih izjavah kaže na sum korupcije in kazniva dejanja, temveč smo '\n",
      " 'od njih dokumentacijo zahtevali sami,« so še navedli na GPU. ')\n",
      "\n",
      "('Opozarjajo na Zakon o kazenskem postopku, ki od vseh državnih organov, '\n",
      " 'vključno s Komisijo za preprečevanje korupcije, zahteva, da prijavijo '\n",
      " 'kazniva dejanja, za katera je storilec preganjan po uradni dolžnosti, če so '\n",
      " 'o njih obveščeni. \"Komisija ni obvestila policije o posedovanju dokumentov, '\n",
      " 'ki po njihovih izjavah kažejo na sum korupcije in kaznivih dejanj, ampak smo '\n",
      " 'dokumentacijo od njih zahtevali sami \", so še navedli na GPU.')\n"
     ]
    },
    {
     "data": {
      "text/plain": [
       "2413940"
      ]
     },
     "execution_count": 2,
     "metadata": {},
     "output_type": "execute_result"
    }
   ],
   "source": [
    "df_sent = pd.read_csv(\"./data/extracted_sentences.csv\", header=None)\n",
    "pprint(df_sent.iloc[0][0])\n",
    "print()\n",
    "pprint(df_sent.iloc[0][1])\n",
    "# df\n",
    "\n",
    "temp = df_sent[0].str.len()\n",
    "sum(temp)\n"
   ]
  },
  {
   "cell_type": "code",
   "execution_count": 3,
   "metadata": {},
   "outputs": [
    {
     "name": "stdout",
     "output_type": "stream",
     "text": [
      "('Pri tem opozarjajo na zakon o kazenskem postopku, ki vsem državnim organom, '\n",
      " 'tudi Komisiji za preprečevanje korupcije, nalaga, da morajo prijaviti '\n",
      " 'kazniva dejanja, za katera se storilec preganja po uradni dolžnosti, če so o '\n",
      " 'njih obveščeni.\\n'\n",
      " '»Komisija ni obvestila policije o posedovanju dokumentacije, ki po njihovih '\n",
      " 'izjavah kaže na sum korupcije in kazniva dejanja, temveč smo od njih '\n",
      " 'dokumentacijo zahtevali sami,« so še navedli na GPU.\\n')\n",
      "\n",
      "('Pri tem opozarjajo na Zakon o kazenskem postopku, ki od vseh državnih '\n",
      " 'organov, vključno s Komisijo za preprečevanje korupcije, zahteva, da '\n",
      " 'prijavijo kazniva dejanja, za katera je storilec preganjan po uradni '\n",
      " 'dolžnosti, če so o njih obveščeni. \"Komisija ni obvestila policije o '\n",
      " 'posedovanju dokumentacije, ki po njihovih navedbah kaže na sum korupcije in '\n",
      " 'kaznivih dejanj, ampak smo od njih zahtevali dokumentacijo,\" so še navedli '\n",
      " 'na GPU.')\n"
     ]
    },
    {
     "data": {
      "text/plain": [
       "291698"
      ]
     },
     "execution_count": 3,
     "metadata": {},
     "output_type": "execute_result"
    }
   ],
   "source": [
    "df_para = pd.read_csv(\"./data/extracted_paragraphs.csv\", header=None)\n",
    "pprint(df_para.iloc[0][0])\n",
    "print()\n",
    "pprint(df_para.iloc[0][1])\n",
    "temp = df_para[0].str.len()\n",
    "sum(temp)"
   ]
  },
  {
   "cell_type": "code",
   "execution_count": 4,
   "metadata": {},
   "outputs": [
    {
     "name": "stdout",
     "output_type": "stream",
     "text": [
      "df_sent: 22390\n",
      "df_para: 1228\n"
     ]
    }
   ],
   "source": [
    "print(f\"df_sent: {df_sent.size}\")\n",
    "print(f\"df_para: {df_para.size}\")"
   ]
  },
  {
   "cell_type": "code",
   "execution_count": 5,
   "metadata": {},
   "outputs": [
    {
     "data": {
      "application/vnd.jupyter.widget-view+json": {
       "model_id": "d986e1bbc1c54bc8aa2b172b496a9f54",
       "version_major": 2,
       "version_minor": 0
      },
      "text/plain": [
       "  0%|          | 0/22390 [00:00<?, ?batch/s]"
      ]
     },
     "metadata": {},
     "output_type": "display_data"
    }
   ],
   "source": [
    "class MyDataSet(torch.utils.data.Dataset):\n",
    "    def __init__(self,data_path):\n",
    "        super(MyDataSet).__init__(),\n",
    "        self.df = pd.read_csv(data_path, header=None)\n",
    "\n",
    "    def __len__(self):\n",
    "        return self.df.size\n",
    "    \n",
    "    def __getitem__(self,indx):\n",
    "        return {\"input\":self.df.iloc[indx][0].strip(),\"output\":self.df.iloc[indx][1].strip()}\n",
    "\n",
    "device = \"cuda\"\n",
    "lr = 0.001\n",
    "epochs = 1\n",
    "batch_size = 128\n",
    "\n",
    "dataset = MyDataSet(\"./data/extracted_sentences.csv\")\n",
    "dataloader = torch.utils.data.DataLoader(dataset=dataset, batch_size=batch_size, shuffle=False, num_workers=0, pin_memory=False)\n",
    "\n",
    "\n",
    "model = transformers.T5ForConditionalGeneration.from_pretrained('t5-small').to(device)\n",
    "tokenizer = transformers.T5Tokenizer.from_pretrained('t5-small')\n",
    "\n",
    "optimizer = torch.optim.Adam(params=model.parameters(),lr=lr)\n",
    "\n",
    "for epoch in range(epochs):\n",
    "    with tqdm(total=len(dataset), unit=\"batch\") as progress:\n",
    "        for batch in dataloader:\n",
    "            inputs = batch[\"input\"]\n",
    "            outputs = batch[\"output\"]\n",
    "\n",
    "            input_tokens = tokenizer(inputs, padding=True, truncation=True, return_tensors='pt').input_ids.to(device)\n",
    "            output_tokens = tokenizer(outputs, padding=True, truncation=True, return_tensors='pt').input_ids.to(device)\n",
    "\n",
    "            outputs = model(input_ids=input_tokens, labels=output_tokens)\n",
    "            loss = outputs.loss\n",
    "\n",
    "            loss.backward()\n",
    "            optimizer.step()\n",
    "\n",
    "            optimizer.zero_grad()\n",
    "\n",
    "            progress.update(len(inputs))\n",
    "            progress.set_postfix(epoch=epoch, loss=loss.item())\n"
   ]
  },
  {
   "cell_type": "code",
   "execution_count": null,
   "metadata": {},
   "outputs": [],
   "source": [
    "# train\n",
    "trainDataset = dataset_module.SynteticTeraseDataset(img_shape,\"train\")\n",
    "trainDataLoader = torch.utils.data.DataLoader(dataset=trainDataset, batch_size=batch_size, num_workers=6, prefetch_factor=2, pin_memory=True)\n",
    "trainIterator = iter(trainDataLoader)\n",
    "# test\n",
    "testDataset = dataset_module.SynteticTeraseDataset(img_shape,\"test\")\n",
    "testDataLoader = torch.utils.data.DataLoader(dataset=testDataset, batch_size=batch_size, num_workers=1, prefetch_factor=1, pin_memory=True)\n",
    "testIterator = iter(testDataLoader)\n",
    "\n",
    "# get how many input channels there are\n",
    "sample_X,sample_y = next(testIterator)\n",
    "in_channels = sample_X.shape[1]\n",
    "out_channels = sample_y.shape[1]"
   ]
  },
  {
   "cell_type": "code",
   "execution_count": null,
   "metadata": {},
   "outputs": [],
   "source": []
  },
  {
   "cell_type": "code",
   "execution_count": null,
   "metadata": {},
   "outputs": [],
   "source": []
  },
  {
   "cell_type": "code",
   "execution_count": null,
   "metadata": {},
   "outputs": [],
   "source": []
  }
 ],
 "metadata": {
  "kernelspec": {
   "display_name": "Python 3",
   "language": "python",
   "name": "python3"
  },
  "language_info": {
   "codemirror_mode": {
    "name": "ipython",
    "version": 3
   },
   "file_extension": ".py",
   "mimetype": "text/x-python",
   "name": "python",
   "nbconvert_exporter": "python",
   "pygments_lexer": "ipython3",
   "version": "3.9.5"
  },
  "orig_nbformat": 4
 },
 "nbformat": 4,
 "nbformat_minor": 2
}
