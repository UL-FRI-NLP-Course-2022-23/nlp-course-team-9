{
 "cells": [
  {
   "cell_type": "code",
   "execution_count": 1,
   "metadata": {},
   "outputs": [],
   "source": [
    "from transformers import pipeline, T5ForConditionalGeneration, T5Tokenizer"
   ]
  },
  {
   "cell_type": "code",
   "execution_count": 2,
   "metadata": {},
   "outputs": [],
   "source": [
    "def get_paraphraser(model_name, tokenizer_type):\n",
    "    model_loc = \"/d/hpc/projects/FRI/team9/models/\" + model_name\n",
    "    model = T5ForConditionalGeneration.from_pretrained(model_loc, local_files_only=True)\n",
    "    model = model.to(\"cuda\")\n",
    "    tokenizer = T5Tokenizer.from_pretrained(tokenizer_type)\n",
    "    paraphraser = pipeline(\n",
    "        \"text2text-generation\",\n",
    "        model=model,\n",
    "        tokenizer=tokenizer,\n",
    "        framework=\"pt\",\n",
    "        max_length=512,\n",
    "        device=0 # means cuda:0\n",
    "    )\n",
    "    return paraphraser\n",
    "\n",
    "def test_phrases(phrases, paraphraser):\n",
    "    # phrase_pairs = []\n",
    "    for phrase in sample_phrases:\n",
    "        pphrase = paraphraser(phrase)[0][\"generated_text\"]\n",
    "        pphrase = pphrase[0].upper() + pphrase[1:]\n",
    "        # phrase_pairs.append((phrase, pphrase))\n",
    "        \n",
    "        print(f\"{phrase}\\n{pphrase}\\n\\n{'-'*30}\\n\")\n",
    "    # return phrase_pairs"
   ]
  },
  {
   "cell_type": "code",
   "execution_count": 3,
   "metadata": {
    "editable": true,
    "slideshow": {
     "slide_type": ""
    },
    "tags": []
   },
   "outputs": [],
   "source": [
    "sample_phrases = [\n",
    "    \"Najbolj je upadla prodaja v segmentu domačih uporabnikov, ki se je skrčil za 65 odstotkov.\",\n",
    "    \"Applova ponudba varčevalnega računa s 4,15-odstotno obrestno mero za svoje uporabnike je naletela na dober odziv. V samo štirih dneh so nabrali približno milijardo dolarjev depozitov.\",\n",
    "    \"V okviru laboratorijskih vaj znanje povežemo s praktično rabo in ga utrdimo z uporabo odprtokodnih sistemov za obdelavo naravnega jezika. Študenti rešujejo naloge, ki temeljijo na realnih raziskovalnih in praktičnih problemih, pretežno v slovenskem in angleškem jeziku.\",\n",
    "    \"Prosim, govorite počasneje.\",\n",
    "    \"Do you speak any other languages?\",\n",
    "    \"V šolskem letu 1994/1995 poskusno izvedli šolsko tekmovanje z nalogami Evropskega matematičnega kenguruja in ga razširili na učence 3. in 4. razreda. V naslednjem letu smo sklenili šolsko tekmovanje z nalogami Evropskega matematičnega kenguruja razširiti še na učence 2. razreda, od šolskega leta 2003/2004 dalje pa so take naloge na voljo za vse razrede osem- in devetletne OŠ.\",\n",
    "    \"Čimprej se pozdravi.\",\n",
    "    \"Pleničke je prala pri mrzlem studenc, en fantič k njej pride, korajžen mladenč.\",\n",
    "    \"Prav milo jo vpraša: Oj deklica ti, zakaj maš tak solzne oči.\",\n",
    "    \"Pleničke je prala pri mrzlem studenc, en fantič k njej pride, korajžen mladenč. Prav milo jo vpraša: Oj deklica ti, zakaj maš tak solzne oči.\",\n",
    "]"
   ]
  },
  {
   "cell_type": "markdown",
   "metadata": {},
   "source": [
    "## Using fine-tuned cjvt/t5-sl-small"
   ]
  },
  {
   "cell_type": "code",
   "execution_count": 4,
   "metadata": {},
   "outputs": [],
   "source": [
    "# Parameters\n",
    "model_name = \"t5-sl-small_05-07T15:26\"\n",
    "tokenizer_type = \"cjvt/t5-sl-small\" # original tokenizer"
   ]
  },
  {
   "cell_type": "code",
   "execution_count": 5,
   "metadata": {},
   "outputs": [],
   "source": [
    "paraphraser = get_paraphraser(model_name, tokenizer_type)"
   ]
  },
  {
   "cell_type": "code",
   "execution_count": 6,
   "metadata": {},
   "outputs": [
    {
     "name": "stdout",
     "output_type": "stream",
     "text": [
      "Najbolj je upadla prodaja v segmentu domačih uporabnikov, ki se je skrčil za 65 odstotkov.\n",
      "Najbolj je upadla prodaja na segmentu domačih uporabnikov, ki se je skrčila za 65 odstotkov.\n",
      "\n",
      "------------------------------\n",
      "\n",
      "Applova ponudba varčevalnega računa s 4,15-odstotno obrestno mero za svoje uporabnike je naletela na dober odziv. V samo štirih dneh so nabrali približno milijardo dolarjev depozitov.\n",
      "Applova ponudba za varčevanje s 4,15% obrestno mero za svoje uporabnike je naletela na dober odziv. V samo štirih dneh so zbrali približno milijardo dolarjev depozitov.\n",
      "\n",
      "------------------------------\n",
      "\n",
      "V okviru laboratorijskih vaj znanje povežemo s praktično rabo in ga utrdimo z uporabo odprtokodnih sistemov za obdelavo naravnega jezika. Študenti rešujejo naloge, ki temeljijo na realnih raziskovalnih in praktičnih problemih, pretežno v slovenskem in angleškem jeziku.\n",
      "V okviru laboratorijskih vaj se znanje povezuje s praktično uporabo in ga nadgrajuje z uporabo odprtokodnih sistemov za obdelavo naravnega jezika. Študenti rešujejo naloge, ki temeljijo na realnih raziskovalnih in praktičnih problemih, večinoma v slovenskem in angleškem jeziku.\n",
      "\n",
      "------------------------------\n",
      "\n",
      "Prosim, govorite počasneje.\n",
      "Prosim, govorite počasneje.\n",
      "\n",
      "------------------------------\n",
      "\n",
      "Do you speak any other languages?\n",
      "Ali ste speak any other languages?\n",
      "\n",
      "------------------------------\n",
      "\n",
      "V šolskem letu 1994/1995 poskusno izvedli šolsko tekmovanje z nalogami Evropskega matematičnega kenguruja in ga razširili na učence 3. in 4. razreda. V naslednjem letu smo sklenili šolsko tekmovanje z nalogami Evropskega matematičnega kenguruja razširiti še na učence 2. razreda, od šolskega leta 2003/2004 dalje pa so take naloge na voljo za vse razrede osem- in devetletne OŠ.\n",
      "V šolskem letu 1994 / 1995 smo prvič izvedli šolsko tekmovanje z nalogami Evropskega matematičnega kenguruja in ga razširili na učence 3. in 4. razreda. V naslednjem letu smo sklenili, da se šolsko tekmovanje z nalogami Evropskega matematičnega kenguruja razširijo na učence 2. razreda, od šolskega leta 2003 / 2004 pa so takšne naloge na voljo za vse razrede osem- in devetletne osnovne šole.\n",
      "\n",
      "------------------------------\n",
      "\n",
      "Čimprej se pozdravi.\n",
      "Čimprej se pozdravi.\n",
      "\n",
      "------------------------------\n",
      "\n",
      "Pleničke je prala pri mrzlem studenc, en fantič k njej pride, korajžen mladenč.\n",
      "Pleničke je prala v hladnem studencu, en fant pa prihaja k njej, ko je bil mlad fant.\n",
      "\n",
      "------------------------------\n",
      "\n",
      "Prav milo jo vpraša: Oj deklica ti, zakaj maš tak solzne oči.\n",
      "Ona jo je milo vprašal: \"Oh, deklica, zakaj imaš tako solzne oči.\n",
      "\n",
      "------------------------------\n",
      "\n",
      "Pleničke je prala pri mrzlem studenc, en fantič k njej pride, korajžen mladenč. Prav milo jo vpraša: Oj deklica ti, zakaj maš tak solzne oči.\n",
      "Pleničke je prala v hladnem studencu, en fant pride k njej, korajžen mladenič. Ona jo je milo vprašal: Oh, deklica, zakaj imaš tako solzne oči.\n",
      "\n",
      "------------------------------\n",
      "\n"
     ]
    }
   ],
   "source": [
    "test_phrases(sample_phrases, paraphraser)"
   ]
  },
  {
   "cell_type": "markdown",
   "metadata": {},
   "source": [
    "## Using fine-tuned cjvt/t5-sl-large"
   ]
  },
  {
   "cell_type": "code",
   "execution_count": 7,
   "metadata": {},
   "outputs": [],
   "source": [
    "# Parameters\n",
    "model_name = \"t5-sl-large_05-07T23:03\"\n",
    "tokenizer_type = \"cjvt/t5-sl-large\" # original tokenizer"
   ]
  },
  {
   "cell_type": "code",
   "execution_count": 8,
   "metadata": {
    "editable": true,
    "slideshow": {
     "slide_type": ""
    },
    "tags": []
   },
   "outputs": [],
   "source": [
    "paraphraser = get_paraphraser(model_name, tokenizer_type)"
   ]
  },
  {
   "cell_type": "code",
   "execution_count": 9,
   "metadata": {},
   "outputs": [
    {
     "name": "stdout",
     "output_type": "stream",
     "text": [
      "Najbolj je upadla prodaja v segmentu domačih uporabnikov, ki se je skrčil za 65 odstotkov.\n",
      "Najbolj se je zmanjšala prodaja v segmentu domačih uporabnikov, ki se je zmanjšala za 65 odstotkov.\n",
      "\n",
      "------------------------------\n",
      "\n",
      "Applova ponudba varčevalnega računa s 4,15-odstotno obrestno mero za svoje uporabnike je naletela na dober odziv. V samo štirih dneh so nabrali približno milijardo dolarjev depozitov.\n",
      "Applova ponudba varčevalnega računa s 4,15% obrestno mero za svoje uporabnike je naletela na dober odziv. V samo štirih dneh so zbrali približno milijardo dolarjev depozitov.\n",
      "\n",
      "------------------------------\n",
      "\n",
      "V okviru laboratorijskih vaj znanje povežemo s praktično rabo in ga utrdimo z uporabo odprtokodnih sistemov za obdelavo naravnega jezika. Študenti rešujejo naloge, ki temeljijo na realnih raziskovalnih in praktičnih problemih, pretežno v slovenskem in angleškem jeziku.\n",
      "V okviru laboratorijskih vaj je znanje povezano s praktično uporabo in se krepi z uporabo odprtokodnih sistemov za obdelavo naravnega jezika. Študenti rešujejo naloge, ki temeljijo na realnih raziskovalnih in praktičnih problemih, večinoma v slovenskem in angleškem jeziku.\n",
      "\n",
      "------------------------------\n",
      "\n",
      "Prosim, govorite počasneje.\n",
      "Prosim, govorite počasneje.\n",
      "\n",
      "------------------------------\n",
      "\n",
      "Do you speak any other languages?\n",
      "Ali ste pripravljeni na druge jezike?\n",
      "\n",
      "------------------------------\n",
      "\n",
      "V šolskem letu 1994/1995 poskusno izvedli šolsko tekmovanje z nalogami Evropskega matematičnega kenguruja in ga razširili na učence 3. in 4. razreda. V naslednjem letu smo sklenili šolsko tekmovanje z nalogami Evropskega matematičnega kenguruja razširiti še na učence 2. razreda, od šolskega leta 2003/2004 dalje pa so take naloge na voljo za vse razrede osem- in devetletne OŠ.\n",
      "V šolskem letu 1994 / 1995 smo poskusno izvedli šolsko tekmovanje z nalogami Evropskega matematičnega kenguruja in ga razširili na učence 3. in 4. razreda. V naslednjem letu smo šolsko tekmovanje z nalogami Evropskega matematičnega kenguruja razširili na učence 2. razreda, od šolskega leta 2003 / 2004 pa so takšne naloge na voljo za vse razrede osem- in devetletne osnovne šole.\n",
      "\n",
      "------------------------------\n",
      "\n",
      "Čimprej se pozdravi.\n",
      "Najprej se pozdravi.\n",
      "\n",
      "------------------------------\n",
      "\n",
      "Pleničke je prala pri mrzlem studenc, en fantič k njej pride, korajžen mladenč.\n",
      "Pleničke je prala pri hladnem izviru, en fant pride k njej, korajžen mladenič.\n",
      "\n",
      "------------------------------\n",
      "\n",
      "Prav milo jo vpraša: Oj deklica ti, zakaj maš tak solzne oči.\n",
      "Ona jo vpraša: \"Oh, deklica, zakaj imaš takšne solze.\n",
      "\n",
      "------------------------------\n",
      "\n",
      "Pleničke je prala pri mrzlem studenc, en fantič k njej pride, korajžen mladenč. Prav milo jo vpraša: Oj deklica ti, zakaj maš tak solzne oči.\n",
      "Pleničke je prala pri mrzlem izviru, en fant pride k njej, korajžen mladenič. Ona jo je milo vprašal: \"Oh, deklica ti, zakaj imaš takšne solze.\n",
      "\n",
      "------------------------------\n",
      "\n"
     ]
    }
   ],
   "source": [
    "test_phrases(sample_phrases, paraphraser)"
   ]
  }
 ],
 "metadata": {
  "kernelspec": {
   "display_name": "Python 3 (ipykernel)",
   "language": "python",
   "name": "python3"
  },
  "language_info": {
   "codemirror_mode": {
    "name": "ipython",
    "version": 3
   },
   "file_extension": ".py",
   "mimetype": "text/x-python",
   "name": "python",
   "nbconvert_exporter": "python",
   "pygments_lexer": "ipython3",
   "version": "3.8.16"
  }
 },
 "nbformat": 4,
 "nbformat_minor": 4
}
