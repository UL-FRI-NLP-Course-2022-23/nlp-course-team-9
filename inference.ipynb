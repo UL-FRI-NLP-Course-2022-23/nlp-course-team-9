{
 "cells": [
  {
   "cell_type": "code",
   "execution_count": 5,
   "metadata": {},
   "outputs": [],
   "source": [
    "import transformers\n",
    "import torch"
   ]
  },
  {
   "cell_type": "code",
   "execution_count": 6,
   "metadata": {
    "editable": true,
    "slideshow": {
     "slide_type": ""
    },
    "tags": []
   },
   "outputs": [],
   "source": [
    "# Parameters\n",
    "model_loc = \"models/2023-05-03T12:31\"\n",
    "tokenizer_type = \"cjvt/t5-sl-small\"\n",
    "\n",
    "model = transformers.T5ForConditionalGeneration.from_pretrained(model_loc, local_files_only=True).to(\"cuda:0\")\n",
    "tokenizer = transformers.T5Tokenizer.from_pretrained(tokenizer_type)\n",
    "paraphraser = transformers.pipeline(\n",
    "    \"text2text-generation\",\n",
    "    model=model,\n",
    "    tokenizer=tokenizer,\n",
    "    framework=\"pt\",\n",
    "    max_length=512,\n",
    "    device=0 # means cuda:0\n",
    ")"
   ]
  },
  {
   "cell_type": "code",
   "execution_count": 9,
   "metadata": {
    "editable": true,
    "slideshow": {
     "slide_type": ""
    },
    "tags": []
   },
   "outputs": [],
   "source": [
    "sample_phrases = [\n",
    "    \"Najbolj je upadla prodaja v segmentu domačih uporabnikov, ki se je skrčil za 65 odstotkov.\",\n",
    "    \"Applova ponudba varčevalnega računa s 4,15-odstotno obrestno mero za svoje uporabnike je naletela na dober odziv. V samo štirih dneh so nabrali približno milijardo dolarjev depozitov.\",\n",
    "    \"V okviru laboratorijskih vaj znanje povežemo s praktično rabo in ga utrdimo z uporabo odprtokodnih sistemov za obdelavo naravnega jezika. Študenti rešujejo naloge, ki temeljijo na realnih raziskovalnih in praktičnih problemih, pretežno v slovenskem in angleškem jeziku.\",\n",
    "    \"Prosim, govorite počasneje.\",\n",
    "    \"Do you speak any other languages?\",\n",
    "    \"V šolskem letu 1994/1995 poskusno izvedli šolsko tekmovanje z nalogami Evropskega matematičnega kenguruja in ga razširili na učence 3. in 4. razreda. V naslednjem letu smo sklenili šolsko tekmovanje z nalogami Evropskega matematičnega kenguruja razširiti še na učence 2. razreda, od šolskega leta 2003/2004 dalje pa so take naloge na voljo za vse razrede osem- in devetletne OŠ.\",\n",
    "    \"Čimprej se pozdravi.\",\n",
    "    \"Pleničke je prala pri mrzlem studenc, en fantič k njej pride, korajžen mladenč.\",\n",
    "    \"Prav milo jo vpraša: Oj deklica ti, zakaj maš tak solzne oči.\",\n",
    "    \"Pleničke je prala pri mrzlem studenc, en fantič k njej pride, korajžen mladenč. Prav milo jo vpraša: Oj deklica ti, zakaj maš tak solzne oči.\",\n",
    "]"
   ]
  },
  {
   "cell_type": "code",
   "execution_count": 10,
   "metadata": {},
   "outputs": [
    {
     "name": "stdout",
     "output_type": "stream",
     "text": [
      "Najbolj je upadla prodaja v segmentu domačih uporabnikov, ki se je skrčil za 65 odstotkov.\n",
      "Prodaja v segmentu domačih uporabnikov, ki se je skrčil za 65 odstotkov.\n",
      "\n",
      "------------------------------\n",
      "\n"
     ]
    },
    {
     "name": "stderr",
     "output_type": "stream",
     "text": [
      "/d/hpc/home/bavcarm/.miniconda3/envs/nlp/lib/python3.8/site-packages/transformers/pipelines/base.py:1070: UserWarning: You seem to be using the pipelines sequentially on GPU. In order to maximize efficiency please use a dataset\n",
      "  warnings.warn(\n"
     ]
    },
    {
     "name": "stdout",
     "output_type": "stream",
     "text": [
      "Applova ponudba varčevalnega računa s 4,15-odstotno obrestno mero za svoje uporabnike je naletela na dober odziv. V samo štirih dneh so nabrali približno milijardo dolarjev depozitov.\n",
      "Apple je imel ponudbo za varčevanja s 4,15% obrestno mero za svoje uporabnike in so naleteli na dober odziv. V samo štirih dneh so nabrali približno 1 milijardo dolarjev depozitov.\n",
      "\n",
      "------------------------------\n",
      "\n",
      "V okviru laboratorijskih vaj znanje povežemo s praktično rabo in ga utrdimo z uporabo odprtokodnih sistemov za obdelavo naravnega jezika. Študenti rešujejo naloge, ki temeljijo na realnih raziskovalnih in praktičnih problemih, pretežno v slovenskem in angleškem jeziku.\n",
      "V laboratorijskih vaje znanje povezujemo s praktično uporabo in ga utrdimo z uporabo brezplačnih sistemov za obdelavo naravnega jezika. Študenti rešujejo naloge, ki temeljijo na resničnih raziskovalnih in praktičnih problemih, predvsem v slovenskem in angleškem jeziku.\n",
      "\n",
      "------------------------------\n",
      "\n",
      "Prosim, govorite počasneje.\n",
      "Prosim, govorite počasneje.\n",
      "\n",
      "------------------------------\n",
      "\n",
      "Do you speak any other languages?\n",
      "Kako lahko speakš še kakšne druge sovražnike?\n",
      "\n",
      "------------------------------\n",
      "\n",
      "V šolskem letu 1994/1995 poskusno izvedli šolsko tekmovanje z nalogami Evropskega matematičnega kenguruja in ga razširili na učence 3. in 4. razreda. V naslednjem letu smo sklenili šolsko tekmovanje z nalogami Evropskega matematičnega kenguruja razširiti še na učence 2. razreda, od šolskega leta 2003/2004 dalje pa so take naloge na voljo za vse razrede osem- in devetletne OŠ.\n",
      "V šolskem letu 1994 / 1995 smo se šolsko tekmovanje z nalogami evropskega matematičnega kenguruja in ga razširili na učence 3. in 4. razreda. V naslednjem letu smo se šolsko tekmovanje z nalogami Evropskega matematičnega kenguruja na področju učencev 2. razreda, od leta 2003 / 2004 pa so takšne naloge na voljo za vse štiri razrede osnovne šole.\n",
      "\n",
      "------------------------------\n",
      "\n",
      "Čimprej se pozdravi.\n",
      "Karkoli se lahko naučiš.\n",
      "\n",
      "------------------------------\n",
      "\n",
      "Pleničke je prala pri mrzlem studenc, en fantič k njej pride, korajžen mladenč.\n",
      "Pleničke je prala v hladnem izviru, en fant pride k njej, korajžen mladenč.\n",
      "\n",
      "------------------------------\n",
      "\n",
      "Prav milo jo vpraša: Oj deklica ti, zakaj maš tak solzne oči.\n",
      "To jo vpraša: Oh, dekle, zakaj si tako solzne oči.\n",
      "\n",
      "------------------------------\n",
      "\n",
      "Pleničke je prala pri mrzlem studenc, en fantič k njej pride, korajžen mladenč. Prav milo jo vpraša: Oj deklica ti, zakaj maš tak solzne oči.\n",
      "Pleničke je prala v hladnem izviru, en fant pride k njej, korviran mlajši moški. Prav milo jo vpraša: Oh, deklica, zakaj imaš solze v očeh.\n",
      "\n",
      "------------------------------\n",
      "\n"
     ]
    }
   ],
   "source": [
    "phrase_pairs = []\n",
    "for phrase in sample_phrases:\n",
    "    pphrase = paraphraser(phrase)[0][\"generated_text\"]\n",
    "    pphrase = pphrase[0].upper() + pphrase[1:]\n",
    "    phrase_pairs.append((phrase, pphrase))\n",
    "    \n",
    "    print(f\"{phrase}\\n{pphrase}\\n\\n{'-'*30}\\n\")"
   ]
  },
  {
   "cell_type": "code",
   "execution_count": null,
   "metadata": {
    "editable": true,
    "slideshow": {
     "slide_type": ""
    },
    "tags": []
   },
   "outputs": [],
   "source": []
  }
 ],
 "metadata": {
  "kernelspec": {
   "display_name": "Python 3 (ipykernel)",
   "language": "python",
   "name": "python3"
  },
  "language_info": {
   "codemirror_mode": {
    "name": "ipython",
    "version": 3
   },
   "file_extension": ".py",
   "mimetype": "text/x-python",
   "name": "python",
   "nbconvert_exporter": "python",
   "pygments_lexer": "ipython3",
   "version": "3.8.16"
  }
 },
 "nbformat": 4,
 "nbformat_minor": 4
}
