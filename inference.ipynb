{
 "cells": [
  {
   "cell_type": "code",
   "execution_count": 1,
   "metadata": {},
   "outputs": [],
   "source": [
    "import transformers\n",
    "\n",
    "# Parameters\n",
    "model_loc = \"models/2023-05-03T12:31\"\n",
    "tokenizer_type = \"cjvt/t5-sl-small\"\n",
    "\n",
    "model = transformers.T5ForConditionalGeneration.from_pretrained(model_loc, local_files_only=True)\n",
    "tokenizer = transformers.T5Tokenizer.from_pretrained(tokenizer_type)\n",
    "paraphraser = transformers.pipeline(\"text2text-generation\", model=model, tokenizer=tokenizer, framework=\"pt\")"
   ]
  },
  {
   "cell_type": "code",
   "execution_count": 2,
   "metadata": {},
   "outputs": [
    {
     "data": {
      "text/plain": [
       "'Tesla V100S-PCIE-32GB'"
      ]
     },
     "execution_count": 2,
     "metadata": {},
     "output_type": "execute_result"
    }
   ],
   "source": [
    "import torch\n",
    "torch.cuda.is_available()\n",
    "torch.cuda.get_device_name(\"cuda\")"
   ]
  },
  {
   "cell_type": "code",
   "execution_count": 6,
   "metadata": {
    "scrolled": false
   },
   "outputs": [
    {
     "name": "stdout",
     "output_type": "stream",
     "text": [
      "[{'generated_text': 'prodaja v segmentu domačih uporabnikov, ki se je skrčil za 65 odstotkov.'}]\n"
     ]
    }
   ],
   "source": [
    "print(paraphraser(\"Najbolj je upadla prodaja v segmentu domačih uporabnikov, ki se je skrčil za 65 odstotkov.\"))"
   ]
  },
  {
   "cell_type": "code",
   "execution_count": 7,
   "metadata": {},
   "outputs": [
    {
     "name": "stdout",
     "output_type": "stream",
     "text": [
      "[{'generated_text': 'Apple je imel ponudbo za varčevanja s 4,15% obrestno mero za svoje uporabnike in so naleteli na'}]\n"
     ]
    }
   ],
   "source": [
    "print(paraphraser(\"Applova ponudba varčevalnega računa s 4,15-odstotno obrestno mero za svoje uporabnike je naletela na dober odziv. V samo štirih dneh so nabrali približno milijardo dolarjev depozitov.\"))"
   ]
  },
  {
   "cell_type": "code",
   "execution_count": null,
   "metadata": {},
   "outputs": [],
   "source": []
  }
 ],
 "metadata": {
  "kernelspec": {
   "display_name": "Python 3 (ipykernel)",
   "language": "python",
   "name": "python3"
  },
  "language_info": {
   "codemirror_mode": {
    "name": "ipython",
    "version": 3
   },
   "file_extension": ".py",
   "mimetype": "text/x-python",
   "name": "python",
   "nbconvert_exporter": "python",
   "pygments_lexer": "ipython3",
   "version": "3.8.16"
  }
 },
 "nbformat": 4,
 "nbformat_minor": 1
}
