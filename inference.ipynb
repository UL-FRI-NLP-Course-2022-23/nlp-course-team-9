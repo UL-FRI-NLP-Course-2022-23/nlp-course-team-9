{
 "cells": [
  {
   "cell_type": "code",
   "execution_count": 1,
   "metadata": {},
   "outputs": [],
   "source": [
    "from transformers import pipeline, T5ForConditionalGeneration, T5Tokenizer"
   ]
  },
  {
   "cell_type": "code",
   "execution_count": 2,
   "metadata": {
    "editable": true,
    "slideshow": {
     "slide_type": ""
    },
    "tags": []
   },
   "outputs": [],
   "source": [
    "# Parameters\n",
    "model_name = \"t5-sl-small_05-07T15:26\"\n",
    "tokenizer_type = \"cjvt/t5-sl-small\" # original tokenizer\n",
    "device = \"cuda\"\n",
    "\n",
    "model_loc = \"/d/hpc/projects/FRI/team9/models/\" + model_name\n",
    "\n",
    "model = T5ForConditionalGeneration.from_pretrained(model_loc, local_files_only=True)\n",
    "model = model.to(device)\n",
    "tokenizer = T5Tokenizer.from_pretrained(tokenizer_type)\n",
    "paraphraser = pipeline(\n",
    "    \"text2text-generation\",\n",
    "    model=model,\n",
    "    tokenizer=tokenizer,\n",
    "    framework=\"pt\",\n",
    "    max_length=512,\n",
    "    device=0 # means cuda:0\n",
    ")"
   ]
  },
  {
   "cell_type": "code",
   "execution_count": 3,
   "metadata": {
    "editable": true,
    "slideshow": {
     "slide_type": ""
    },
    "tags": []
   },
   "outputs": [],
   "source": [
    "sample_phrases = [\n",
    "    \"Najbolj je upadla prodaja v segmentu domačih uporabnikov, ki se je skrčil za 65 odstotkov.\",\n",
    "    \"Applova ponudba varčevalnega računa s 4,15-odstotno obrestno mero za svoje uporabnike je naletela na dober odziv. V samo štirih dneh so nabrali približno milijardo dolarjev depozitov.\",\n",
    "    \"V okviru laboratorijskih vaj znanje povežemo s praktično rabo in ga utrdimo z uporabo odprtokodnih sistemov za obdelavo naravnega jezika. Študenti rešujejo naloge, ki temeljijo na realnih raziskovalnih in praktičnih problemih, pretežno v slovenskem in angleškem jeziku.\",\n",
    "    \"Prosim, govorite počasneje.\",\n",
    "    \"Do you speak any other languages?\",\n",
    "    \"V šolskem letu 1994/1995 poskusno izvedli šolsko tekmovanje z nalogami Evropskega matematičnega kenguruja in ga razširili na učence 3. in 4. razreda. V naslednjem letu smo sklenili šolsko tekmovanje z nalogami Evropskega matematičnega kenguruja razširiti še na učence 2. razreda, od šolskega leta 2003/2004 dalje pa so take naloge na voljo za vse razrede osem- in devetletne OŠ.\",\n",
    "    \"Čimprej se pozdravi.\",\n",
    "    \"Pleničke je prala pri mrzlem studenc, en fantič k njej pride, korajžen mladenč.\",\n",
    "    \"Prav milo jo vpraša: Oj deklica ti, zakaj maš tak solzne oči.\",\n",
    "    \"Pleničke je prala pri mrzlem studenc, en fantič k njej pride, korajžen mladenč. Prav milo jo vpraša: Oj deklica ti, zakaj maš tak solzne oči.\",\n",
    "]"
   ]
  },
  {
   "cell_type": "code",
   "execution_count": 4,
   "metadata": {},
   "outputs": [
    {
     "name": "stdout",
     "output_type": "stream",
     "text": [
      "Najbolj je upadla prodaja v segmentu domačih uporabnikov, ki se je skrčil za 65 odstotkov.\n",
      "Najbolj je upadla prodaja na segmentu domačih uporabnikov, ki se je skrčila za 65 odstotkov.\n",
      "\n",
      "------------------------------\n",
      "\n",
      "Applova ponudba varčevalnega računa s 4,15-odstotno obrestno mero za svoje uporabnike je naletela na dober odziv. V samo štirih dneh so nabrali približno milijardo dolarjev depozitov.\n",
      "Applova ponudba za varčevanje s 4,15% obrestno mero za svoje uporabnike je naletela na dober odziv. V samo štirih dneh so zbrali približno milijardo dolarjev depozitov.\n",
      "\n",
      "------------------------------\n",
      "\n",
      "V okviru laboratorijskih vaj znanje povežemo s praktično rabo in ga utrdimo z uporabo odprtokodnih sistemov za obdelavo naravnega jezika. Študenti rešujejo naloge, ki temeljijo na realnih raziskovalnih in praktičnih problemih, pretežno v slovenskem in angleškem jeziku.\n",
      "V okviru laboratorijskih vaj se znanje povezuje s praktično uporabo in ga nadgrajuje z uporabo odprtokodnih sistemov za obdelavo naravnega jezika. Študenti rešujejo naloge, ki temeljijo na realnih raziskovalnih in praktičnih problemih, večinoma v slovenskem in angleškem jeziku.\n",
      "\n",
      "------------------------------\n",
      "\n",
      "Prosim, govorite počasneje.\n",
      "Prosim, govorite počasneje.\n",
      "\n",
      "------------------------------\n",
      "\n",
      "Do you speak any other languages?\n",
      "Ali ste speak any other languages?\n",
      "\n",
      "------------------------------\n",
      "\n",
      "V šolskem letu 1994/1995 poskusno izvedli šolsko tekmovanje z nalogami Evropskega matematičnega kenguruja in ga razširili na učence 3. in 4. razreda. V naslednjem letu smo sklenili šolsko tekmovanje z nalogami Evropskega matematičnega kenguruja razširiti še na učence 2. razreda, od šolskega leta 2003/2004 dalje pa so take naloge na voljo za vse razrede osem- in devetletne OŠ.\n",
      "V šolskem letu 1994 / 1995 smo prvič izvedli šolsko tekmovanje z nalogami Evropskega matematičnega kenguruja in ga razširili na učence 3. in 4. razreda. V naslednjem letu smo sklenili, da se šolsko tekmovanje z nalogami Evropskega matematičnega kenguruja razširijo na učence 2. razreda, od šolskega leta 2003 / 2004 pa so takšne naloge na voljo za vse razrede osem- in devetletne osnovne šole.\n",
      "\n",
      "------------------------------\n",
      "\n",
      "Čimprej se pozdravi.\n",
      "Čimprej se pozdravi.\n",
      "\n",
      "------------------------------\n",
      "\n",
      "Pleničke je prala pri mrzlem studenc, en fantič k njej pride, korajžen mladenč.\n",
      "Pleničke je prala v hladnem studencu, en fant pa prihaja k njej, ko je bil mlad fant.\n",
      "\n",
      "------------------------------\n",
      "\n",
      "Prav milo jo vpraša: Oj deklica ti, zakaj maš tak solzne oči.\n",
      "Ona jo je milo vprašal: \"Oh, deklica, zakaj imaš tako solzne oči.\n",
      "\n",
      "------------------------------\n",
      "\n",
      "Pleničke je prala pri mrzlem studenc, en fantič k njej pride, korajžen mladenč. Prav milo jo vpraša: Oj deklica ti, zakaj maš tak solzne oči.\n",
      "Pleničke je prala v hladnem studencu, en fant pride k njej, korajžen mladenič. Ona jo je milo vprašal: Oh, deklica, zakaj imaš tako solzne oči.\n",
      "\n",
      "------------------------------\n",
      "\n"
     ]
    }
   ],
   "source": [
    "phrase_pairs = []\n",
    "for phrase in sample_phrases:\n",
    "    pphrase = paraphraser(phrase)[0][\"generated_text\"]\n",
    "    pphrase = pphrase[0].upper() + pphrase[1:]\n",
    "    phrase_pairs.append((phrase, pphrase))\n",
    "    \n",
    "    print(f\"{phrase}\\n{pphrase}\\n\\n{'-'*30}\\n\")"
   ]
  },
  {
   "cell_type": "code",
   "execution_count": 5,
   "metadata": {
    "editable": true,
    "slideshow": {
     "slide_type": ""
    },
    "tags": []
   },
   "outputs": [],
   "source": [
    "base_model = T5ForConditionalGeneration.from_pretrained(\"cjvt/t5-sl-small\").to(\"cuda:0\")\n",
    "tokenizer = T5Tokenizer.from_pretrained(tokenizer_type)\n",
    "base_paraphraser = pipeline(\n",
    "    \"text2text-generation\",\n",
    "    model=base_model,\n",
    "    tokenizer=tokenizer,\n",
    "    framework=\"pt\",\n",
    "    max_length=512,\n",
    "    device=0 # means cuda:0\n",
    ")"
   ]
  },
  {
   "cell_type": "code",
   "execution_count": 6,
   "metadata": {},
   "outputs": [
    {
     "name": "stdout",
     "output_type": "stream",
     "text": [
      "Najbolj je upadla prodaja v segmentu domačih uporabnikov, ki se je skrčil za 65 odstotkov.\n",
      "݄\n",
      "\n",
      "------------------------------\n",
      "\n",
      "Applova ponudba varčevalnega računa s 4,15-odstotno obrestno mero za svoje uporabnike je naletela na dober odziv. V samo štirih dneh so nabrali približno milijardo dolarjev depozitov.\n",
      "݄\n",
      "\n",
      "------------------------------\n",
      "\n",
      "V okviru laboratorijskih vaj znanje povežemo s praktično rabo in ga utrdimo z uporabo odprtokodnih sistemov za obdelavo naravnega jezika. Študenti rešujejo naloge, ki temeljijo na realnih raziskovalnih in praktičnih problemih, pretežno v slovenskem in angleškem jeziku.\n",
      "݄\n",
      "\n",
      "------------------------------\n",
      "\n",
      "Prosim, govorite počasneje.\n",
      "݄\n",
      "\n",
      "------------------------------\n",
      "\n",
      "Do you speak any other languages?\n",
      "݄\n",
      "\n",
      "------------------------------\n",
      "\n",
      "V šolskem letu 1994/1995 poskusno izvedli šolsko tekmovanje z nalogami Evropskega matematičnega kenguruja in ga razširili na učence 3. in 4. razreda. V naslednjem letu smo sklenili šolsko tekmovanje z nalogami Evropskega matematičnega kenguruja razširiti še na učence 2. razreda, od šolskega leta 2003/2004 dalje pa so take naloge na voljo za vse razrede osem- in devetletne OŠ.\n",
      "݄\n",
      "\n",
      "------------------------------\n",
      "\n",
      "Čimprej se pozdravi.\n",
      "݄\n",
      "\n",
      "------------------------------\n",
      "\n",
      "Pleničke je prala pri mrzlem studenc, en fantič k njej pride, korajžen mladenč.\n",
      "݄\n",
      "\n",
      "------------------------------\n",
      "\n",
      "Prav milo jo vpraša: Oj deklica ti, zakaj maš tak solzne oči.\n",
      "݄\n",
      "\n",
      "------------------------------\n",
      "\n",
      "Pleničke je prala pri mrzlem studenc, en fantič k njej pride, korajžen mladenč. Prav milo jo vpraša: Oj deklica ti, zakaj maš tak solzne oči.\n",
      "݄\n",
      "\n",
      "------------------------------\n",
      "\n"
     ]
    }
   ],
   "source": [
    "for phrase in sample_phrases:\n",
    "    pphrase = base_paraphraser(phrase)[0][\"generated_text\"]\n",
    "    pphrase = pphrase[0].upper() + pphrase[1:]\n",
    "    # phrase_pairs.append((phrase, pphrase))\n",
    "    \n",
    "    print(f\"{phrase}\\n{pphrase}\\n\\n{'-'*30}\\n\")"
   ]
  },
  {
   "cell_type": "code",
   "execution_count": 7,
   "metadata": {},
   "outputs": [],
   "source": [
    "summ = pipeline(\n",
    "    \"summarization\",\n",
    "    model=model,\n",
    "    tokenizer=tokenizer,\n",
    "    framework=\"pt\",\n",
    "    max_length=60,\n",
    "    device=0 # means cuda:0\n",
    ")"
   ]
  },
  {
   "cell_type": "code",
   "execution_count": null,
   "metadata": {},
   "outputs": [],
   "source": []
  },
  {
   "cell_type": "code",
   "execution_count": null,
   "metadata": {},
   "outputs": [],
   "source": []
  }
 ],
 "metadata": {
  "kernelspec": {
   "display_name": "Python 3 (ipykernel)",
   "language": "python",
   "name": "python3"
  },
  "language_info": {
   "codemirror_mode": {
    "name": "ipython",
    "version": 3
   },
   "file_extension": ".py",
   "mimetype": "text/x-python",
   "name": "python",
   "nbconvert_exporter": "python",
   "pygments_lexer": "ipython3",
   "version": "3.8.16"
  }
 },
 "nbformat": 4,
 "nbformat_minor": 4
}
